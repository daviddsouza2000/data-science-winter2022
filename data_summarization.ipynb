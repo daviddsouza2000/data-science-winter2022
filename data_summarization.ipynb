{
 "cells": [
  {
   "cell_type": "code",
   "execution_count": null,
   "metadata": {},
   "outputs": [],
   "source": [
    "import warnings\n",
    "import pandas as pd\n",
    "import numpy as np\n",
    "import matplotlib.pyplot as plt\n",
    "from sklearn.preprocessing import MinMaxScaler\n",
    "from sklearn.feature_selection import SelectKBest\n",
    "from sklearn.feature_selection import chi2\n",
    "from sklearn.tree import DecisionTreeClassifier\n",
    "from sklearn.ensemble import RandomForestClassifier\n",
    "from sklearn.ensemble import GradientBoostingClassifier\n",
    "from sklearn.model_selection import GridSearchCV\n",
    "from sklearn.model_selection import LeaveOneOut\n",
    "import country_script\n",
    "import education_script\n",
    "import health_script\n",
    "import population_script\n",
    "import quality_of_life_script"
   ]
  },
  {
   "cell_type": "markdown",
   "metadata": {},
   "source": [
    "# Data Summarization"
   ]
  },
  {
   "cell_type": "code",
   "execution_count": null,
   "metadata": {},
   "outputs": [],
   "source": [
    "country_df = country_script.getCountryList(True)\n",
    "fact_table_df = pd.read_csv(\"./output/fact_table.csv\")\n",
    "year_df = pd.read_csv(\"./output/year.csv\")"
   ]
  },
  {
   "cell_type": "code",
   "execution_count": null,
   "metadata": {},
   "outputs": [],
   "source": [
    "countries = [\"Canada\", \"United States\", \"United Kingdom\", \"France\", \"Germany\", \"Sweden\", \"Australia\", \"Denmark\", \"Belgium\"]"
   ]
  },
  {
   "cell_type": "code",
   "execution_count": null,
   "metadata": {},
   "outputs": [],
   "source": [
    "main_df = pd.merge(country_df, fact_table_df, on='CountryKey' )\n",
    "main_df = pd.merge(main_df, year_df, on='YearKey')"
   ]
  },
  {
   "cell_type": "code",
   "execution_count": null,
   "metadata": {},
   "outputs": [],
   "source": [
    "main_df[\"GDP\"] = pd.to_numeric(main_df[\"GDP\"])\n"
   ]
  },
  {
   "cell_type": "code",
   "execution_count": null,
   "metadata": {},
   "outputs": [],
   "source": [
    "gdp_df = main_df.pivot(index=\"Year\", columns=\"Name\", values=\"GDP\")"
   ]
  },
  {
   "cell_type": "code",
   "execution_count": null,
   "metadata": {},
   "outputs": [],
   "source": [
    "gdp_df.plot()\n",
    "plt.show()"
   ]
  },
  {
   "cell_type": "code",
   "execution_count": null,
   "metadata": {},
   "outputs": [],
   "source": [
    "education_df = pd.read_csv(\"./output/education.csv\")"
   ]
  },
  {
   "cell_type": "code",
   "execution_count": null,
   "metadata": {},
   "outputs": [],
   "source": [
    "main_df = pd.merge(main_df, education_df, left_on=\"EducationKey\", right_on=\"EducationKey\")"
   ]
  },
  {
   "cell_type": "code",
   "execution_count": null,
   "metadata": {},
   "outputs": [],
   "source": [
    "main_df[\"School enrollment, tertiary (% gross)\"] = pd.to_numeric(main_df[\"School enrollment, tertiary (% gross)\"])"
   ]
  },
  {
   "cell_type": "code",
   "execution_count": null,
   "metadata": {},
   "outputs": [],
   "source": [
    "se_df = main_df.pivot(index=\"Year\", columns=\"Name\", values=\"School enrollment, tertiary (% gross)\")"
   ]
  },
  {
   "cell_type": "code",
   "execution_count": null,
   "metadata": {},
   "outputs": [],
   "source": [
    "se_df.plot.bar()\n",
    "plt.show()"
   ]
  },
  {
   "cell_type": "code",
   "execution_count": null,
   "metadata": {},
   "outputs": [],
   "source": [
    "qualityoflife_df = pd.read_csv(\"./output/quality_of_life.csv\")"
   ]
  },
  {
   "cell_type": "code",
   "execution_count": null,
   "metadata": {},
   "outputs": [],
   "source": [
    "main_df = pd.merge(main_df, qualityoflife_df, left_on=\"QualityOfLifeKey\", right_on=\"QualityOfLifeKey\")"
   ]
  },
  {
   "cell_type": "code",
   "execution_count": null,
   "metadata": {},
   "outputs": [],
   "source": [
    "main_df[\"Unemployment, total (% of total labor force)\"] = pd.to_numeric(main_df[\"Unemployment, total (% of total labor force)\"])"
   ]
  },
  {
   "cell_type": "code",
   "execution_count": null,
   "metadata": {},
   "outputs": [],
   "source": [
    "unemployment_df = main_df.pivot(index=\"Year\", columns=\"Name\", values=\"Unemployment, total (% of total labor force)\")"
   ]
  },
  {
   "cell_type": "code",
   "execution_count": null,
   "metadata": {},
   "outputs": [],
   "source": [
    "unemployment_df.hist(column=\"Canada\")\n",
    "plt.show()"
   ]
  },
  {
   "cell_type": "code",
   "execution_count": null,
   "metadata": {},
   "outputs": [],
   "source": [
    "main_df[\"Public spending on education, total (% of GDP)\"] = pd.to_numeric(main_df[\"Public spending on education, total (% of GDP)\"])\n",
    "main_df[\"PISA: Mean performance on the mathematics scale\"] = pd.to_numeric(main_df[\"PISA: Mean performance on the mathematics scale\"])"
   ]
  },
  {
   "cell_type": "code",
   "execution_count": null,
   "metadata": {},
   "outputs": [],
   "source": [
    "pisa_df = main_df.pivot(index=\"Year\", columns=\"Name\", values=[\"Public spending on education, total (% of GDP)\",\"PISA: Mean performance on the mathematics scale\"])"
   ]
  },
  {
   "cell_type": "code",
   "execution_count": null,
   "metadata": {},
   "outputs": [],
   "source": [
    "pisa_df.plot.scatter(x='Public spending on education, total (% of GDP)',y='PISA: Mean performance on the mathematics scale')\n",
    "plt.show()"
   ]
  },
  {
   "cell_type": "code",
   "execution_count": null,
   "metadata": {},
   "outputs": [],
   "source": [
    "population_df = pd.read_csv(\"./output/population.csv\")"
   ]
  },
  {
   "cell_type": "code",
   "execution_count": null,
   "metadata": {},
   "outputs": [],
   "source": [
    "main_df = pd.merge(main_df, population_df, left_on=\"PopulationKey\", right_on=\"PopulationKey\")"
   ]
  },
  {
   "cell_type": "code",
   "execution_count": null,
   "metadata": {},
   "outputs": [],
   "source": [
    "main_df[\"Urban population growth (annual %)\"] = pd.to_numeric(main_df[\"Urban population growth (annual %)\"])"
   ]
  },
  {
   "cell_type": "code",
   "execution_count": null,
   "metadata": {},
   "outputs": [],
   "source": [
    "upg_df = main_df.pivot(index=\"Year\", columns=\"Name\", values=\"Urban population growth (annual %)\")"
   ]
  },
  {
   "cell_type": "code",
   "execution_count": null,
   "metadata": {},
   "outputs": [],
   "source": [
    "upg_df.plot.box(figsize=(15,15))\n",
    "plt.show()"
   ]
  },
  {
   "cell_type": "markdown",
   "metadata": {},
   "source": [
    "# Data Preprocessing\n",
    "Want to create a model to predict a country's human development index based on attribute values from their health, population, quality of life, and education statistics."
   ]
  },
  {
   "cell_type": "code",
   "execution_count": null,
   "metadata": {},
   "outputs": [],
   "source": [
    "final_df = pd.read_csv(\"./output/fact_table.csv\")"
   ]
  },
  {
   "cell_type": "code",
   "execution_count": null,
   "metadata": {},
   "outputs": [],
   "source": [
    "# columns with empty values\n",
    "# education dimension\n",
    "# literacy rate, adult male, female, total\n",
    "# school enrollment primary, secondary, teritary\n",
    "# public spending on education, total\n",
    "# Pisa science, reading, mathmatics\n",
    "# gender parity\n",
    "\n",
    "# health dimension\n",
    "# domestic government health expenditure\n",
    "# hospital beds \n",
    "# immunization HEPB3, DPT, measles, pol3\n",
    "# stillbirth rate\n",
    "# nurses and midwives, physicians\n",
    "# diabetes prevalence\n",
    "# prevalence of HIV, tobacco use\n",
    "# total alcohol consumption per capita\n",
    "# mortality rate, male and female\n",
    "\n",
    "# population dimension\n",
    "# life expectancy at birth: female, male, total\n",
    "# net migration\n",
    "\n",
    "# quality of life dimension\n",
    "# people with basic handashing \n",
    "# pregnant women receiving prenatla care\n",
    "# births attended by skilled health staff\n",
    "# community health workers\n",
    "# consumption of iodized salt\n"
   ]
  },
  {
   "cell_type": "code",
   "execution_count": null,
   "metadata": {},
   "outputs": [],
   "source": [
    "# Country\n",
    "# wil use - TotalPopulation, Birthrate, Size, GDP, Population Density\n",
    "# all those columns are full\n",
    "country_df = country_script.getCountryList(True)\n",
    "country_df = country_df[[\"CountryKey\", \"Name\", \"TotalPopulation\", \"Birthrate\", \"Size\", \"GDP\", \"PopulationDensity\"]]\n",
    "final_df = pd.merge(final_df, country_df, left_on=\"CountryKey\", right_on=\"CountryKey\")"
   ]
  },
  {
   "cell_type": "code",
   "execution_count": null,
   "metadata": {},
   "outputs": [],
   "source": [
    "# Education\n",
    "curent_df = education_script.getEducationList()\n",
    "# will drop the 3 empty literacy rate columns\n",
    "curent_df = curent_df.drop([\"Literacy rate, adult female (% of females ages 15 and above)\",\n",
    "        \"Literacy rate, adult male (% of males ages 15 and above)\",\n",
    "       \"Literacy rate, adult total (% of people ages 15 and above)\"], axis=1)\n",
    "# setting the wanted columns\n",
    "wanted_col_names = ['School enrollment, primary (% gross)',\n",
    "       'School enrollment, secondary (% gross)',\n",
    "       'School enrollment, tertiary (% gross)',\n",
    "       'Public spending on education, total (% of GDP)',\n",
    "       'PISA: Mean performance on the science scale',\n",
    "       'PISA: Mean performance on the reading scale',\n",
    "       'PISA: Mean performance on the mathematics scale',\n",
    "       'Adjusted net enrolment rate, one year before the official primary entry age, adjusted gender parity index (GPIA)']\n",
    "for current_col_name in wanted_col_names:\n",
    "        curent_df[current_col_name] = pd.to_numeric(curent_df[current_col_name])\n",
    "        for country in countries:\n",
    "                current_col = curent_df[curent_df[\"Country Name\"] == country][[current_col_name]]\n",
    "                mean = np.mean(current_col)\n",
    "                #current_col = current_col.fillna(mean)\n",
    "                current_col.fillna(mean, inplace=True)\n",
    "                for i in current_col.index:\n",
    "                        curent_df.at[i, current_col_name] = current_col.at[i, current_col_name]\n",
    "\n",
    "curent_df = curent_df[wanted_col_names]\n",
    "#education_df.to_csv(\"temp.csv\")\n",
    "final_df = pd.merge(final_df, curent_df, left_on=\"EducationKey\", right_index=True)"
   ]
  },
  {
   "cell_type": "code",
   "execution_count": null,
   "metadata": {},
   "outputs": [],
   "source": [
    "# Health\n",
    "curent_df = health_script.getHealthList()\n",
    "#print(health_df.columns)\n",
    "# drop empty diabetes prevalence column\n",
    "curent_df = curent_df.drop(['Diabetes prevalence (% of population ages 20 to 79)'], axis=1)\n",
    "wanted_col_names = [\n",
    "       'Domestic general government health expenditure (% of GDP)',\n",
    "       'Hospital beds (per 1,000 people)',\n",
    "       'Immunization, HepB3 (% of one-year-old children)',\n",
    "       'Immunization, DPT (% of children ages 12-23 months)',\n",
    "       'Immunization, measles (% of children ages 12-23 months)',\n",
    "       'Immunization, Pol3 (% of one-year-old children)',\n",
    "       'Mortality rate, infant (per 1,000 live births)',\n",
    "       'Stillbirth rate (per 1,000 total births)',\n",
    "       'Nurses and midwives (per 1,000 people)',\n",
    "       'Physicians (per 1,000 people)',\n",
    "       'Prevalence of HIV, total (% of population ages 15-49)',\n",
    "       'Prevalence of current tobacco use (% of adults)',\n",
    "       'Total alcohol consumption per capita (liters of pure alcohol, projected estimates, 15+ years of age)',\n",
    "       'Mortality rate, adult, male (per 1,000 male adults)',\n",
    "       'Mortality rate, adult, female (per 1,000 female adults)']\n",
    "\n",
    "for current_col_name in wanted_col_names:\n",
    "        curent_df[current_col_name] = pd.to_numeric(curent_df[current_col_name])\n",
    "        for country in countries:\n",
    "                current_col = curent_df[curent_df[\"Country Name\"] == country][[current_col_name]]\n",
    "                mean = np.mean(current_col)\n",
    "                #current_col = current_col.fillna(mean)\n",
    "                current_col.fillna(mean, inplace=True)\n",
    "                for i in current_col.index:\n",
    "                        curent_df.at[i, current_col_name] = current_col.at[i, current_col_name]\n",
    "curent_df = curent_df[wanted_col_names]\n",
    "#curent_df.to_csv(\"temp.csv\")\n",
    "final_df = pd.merge(final_df, curent_df, left_on=\"HealthKey\", right_index=True)\n",
    "# will use - domesic general government health expenditure \n",
    "\n",
    "# Hospital beds\n",
    "\n",
    "# immunization, HepB3\n",
    "\n",
    "# immunization DPT\n",
    "\n",
    "# immuzation measles\n",
    "\n",
    "# immunization pol3\n",
    "\n",
    "# mortality rate, infant\n",
    "\n",
    "# stillbirth rate \n",
    "\n",
    "# nurses and midwives\n",
    "\n",
    "# physicians\n",
    "\n",
    "# drop diabetes prevalence - no data\n",
    "\n",
    "# prevalence of HIV - lots of missing data\n",
    "\n",
    "# prevalence of current tobacco - lots of missing data\n",
    "\n",
    "# total alcohol consumption per capita \n",
    "\n",
    "# mortality rate male\n",
    "\n",
    "# mortality rate female\n",
    "\n"
   ]
  },
  {
   "cell_type": "code",
   "execution_count": null,
   "metadata": {},
   "outputs": [],
   "source": [
    "# Population\n",
    "curent_df = population_script.getPopulationList()\n",
    "# drop net migration\n",
    "curent_df = curent_df.drop(['Net migration'], axis=1)\n",
    "wanted_col_names = ['Life expectancy at birth, female (years)',\n",
    "       'Life expectancy at birth, male (years)',\n",
    "       'Life expectancy at birth, total (years)',\n",
    "       'Population growth (annual %)',\n",
    "       'Labor force, female (% of total labor force)', 'Labor force, total',\n",
    "       'Rural population growth (annual %)',\n",
    "       'Urban population growth (annual %)',\n",
    "       'Rural population (% of total population)',\n",
    "       'Urban population (% of total population)']\n",
    "\n",
    "for current_col_name in wanted_col_names:\n",
    "        curent_df[current_col_name] = pd.to_numeric(curent_df[current_col_name])\n",
    "        for country in countries:\n",
    "                current_col = curent_df[curent_df[\"Country Name\"] == country][[current_col_name]]\n",
    "                mean = np.mean(current_col)\n",
    "                #current_col = current_col.fillna(mean)\n",
    "                current_col.fillna(mean, inplace=True)\n",
    "                for i in current_col.index:\n",
    "                        curent_df.at[i, current_col_name] = current_col.at[i, current_col_name]\n",
    "\n",
    "curent_df = curent_df[wanted_col_names]\n",
    "#curent_df.to_csv(\"temp.csv\")\n",
    "final_df = pd.merge(final_df, curent_df, left_on=\"PopulationKey\", right_index=True)\n",
    "# life expectancy at birth female\n",
    "\n",
    "# life expectancy at birth male\n",
    "\n",
    "# life expectancy at birth total\n",
    "\n",
    "# net migration - might drop, little data\n",
    "\n",
    "# population growth \n",
    "\n",
    "# labor force female\n",
    "\n",
    "# labor force total\n",
    "\n",
    "# rural population growth\n",
    "\n",
    "# urban population grwoth\n",
    "\n",
    "# rural population \n",
    "\n",
    "# urban population"
   ]
  },
  {
   "cell_type": "code",
   "execution_count": null,
   "metadata": {},
   "outputs": [],
   "source": [
    "# Quality of life\n",
    "curent_df = quality_of_life_script.getQualityOfLifeList()\n",
    "# drop empty columns\n",
    "curent_df = curent_df.drop(['People with basic handwashing facilities including soap and water (% of population)',\n",
    "                            'Pregnant women receiving prenatal care (%)',\n",
    "                            'Community health workers (per 1,000 people)',\n",
    "                            'Consumption of iodized salt (% of households)'\n",
    "                            ], axis=1)\n",
    "wanted_col_names = ['People using at least basic drinking water services (% of population)',\n",
    "       'People using at least basic sanitation services (% of population)',\n",
    "       'Unemployment, female (% of female labor force)',\n",
    "       'Unemployment, male (% of male labor force)',\n",
    "       'Unemployment, total (% of total labor force)',\n",
    "       'Age dependency ratio (% of working-age population)',\n",
    "       'Births attended by skilled health staff (% of total)']\n",
    "\n",
    "for current_col_name in wanted_col_names:\n",
    "        curent_df[current_col_name] = pd.to_numeric(curent_df[current_col_name])\n",
    "        for country in countries:\n",
    "                current_col = curent_df[curent_df[\"Country Name\"] == country][[current_col_name]]\n",
    "                mean = np.mean(current_col)\n",
    "                #current_col = current_col.fillna(mean)\n",
    "                current_col.fillna(mean, inplace=True)\n",
    "                for i in current_col.index:\n",
    "                        curent_df.at[i, current_col_name] = current_col.at[i, current_col_name]\n",
    "\n",
    "curent_df = curent_df[wanted_col_names]\n",
    "#curent_df.to_csv(\"temp.csv\")\n",
    "final_df = pd.merge(final_df, curent_df, left_on=\"QualityOfLifeKey\", right_index=True)\n",
    "# people using at least basic drinking water services\n",
    "\n",
    "# people using at least basic sanitation services\n",
    "\n",
    "# people with basic handwashing facilities including soap - drop, no data\n",
    "\n",
    "# unemployment female\n",
    "\n",
    "# unemployment male\n",
    "\n",
    "# unemployment total\n",
    "\n",
    "# pregnant women receiving prenatal care - drop, no data\n",
    "\n",
    "# age dependency ratio \n",
    "\n",
    "# births attended by skilled health staff - little data\n",
    "\n",
    "# community health workers - drop, no data\n",
    "\n",
    "# consumption of iodized salt - drop, no data"
   ]
  },
  {
   "cell_type": "code",
   "execution_count": null,
   "metadata": {},
   "outputs": [],
   "source": [
    "final_df.to_csv(\"final.csv\")\n",
    "print(final_df.columns)\n"
   ]
  },
  {
   "cell_type": "code",
   "execution_count": null,
   "metadata": {},
   "outputs": [],
   "source": [
    "# columns to scale\n",
    "columns_to_scale = [\n",
    "       'TotalPopulation', 'Birthrate', 'Size', 'GDP', 'PopulationDensity',\n",
    "       'School enrollment, primary (% gross)',\n",
    "       'School enrollment, secondary (% gross)',\n",
    "       'School enrollment, tertiary (% gross)',\n",
    "       'Public spending on education, total (% of GDP)',\n",
    "       'PISA: Mean performance on the science scale',\n",
    "       'PISA: Mean performance on the reading scale',\n",
    "       'PISA: Mean performance on the mathematics scale',\n",
    "       'Adjusted net enrolment rate, one year before the official primary entry age, adjusted gender parity index (GPIA)',\n",
    "       'Domestic general government health expenditure (% of GDP)',\n",
    "       'Hospital beds (per 1,000 people)',\n",
    "       'Immunization, HepB3 (% of one-year-old children)',\n",
    "       'Immunization, DPT (% of children ages 12-23 months)',\n",
    "       'Immunization, measles (% of children ages 12-23 months)',\n",
    "       'Immunization, Pol3 (% of one-year-old children)',\n",
    "       'Mortality rate, infant (per 1,000 live births)',\n",
    "       'Stillbirth rate (per 1,000 total births)',\n",
    "       'Nurses and midwives (per 1,000 people)',\n",
    "       'Physicians (per 1,000 people)',\n",
    "       'Prevalence of HIV, total (% of population ages 15-49)',\n",
    "       'Prevalence of current tobacco use (% of adults)',\n",
    "       'Total alcohol consumption per capita (liters of pure alcohol, projected estimates, 15+ years of age)',\n",
    "       'Mortality rate, adult, male (per 1,000 male adults)',\n",
    "       'Mortality rate, adult, female (per 1,000 female adults)',\n",
    "       'Life expectancy at birth, female (years)',\n",
    "       'Life expectancy at birth, male (years)',\n",
    "       'Life expectancy at birth, total (years)',\n",
    "       'Population growth (annual %)',\n",
    "       'Labor force, female (% of total labor force)', 'Labor force, total',\n",
    "       'Rural population growth (annual %)',\n",
    "       'Urban population growth (annual %)',\n",
    "       'Rural population (% of total population)',\n",
    "       'Urban population (% of total population)',\n",
    "       'People using at least basic drinking water services (% of population)',\n",
    "       'People using at least basic sanitation services (% of population)',\n",
    "       'Unemployment, female (% of female labor force)',\n",
    "       'Unemployment, male (% of male labor force)',\n",
    "       'Unemployment, total (% of total labor force)',\n",
    "       'Age dependency ratio (% of working-age population)',\n",
    "       'Births attended by skilled health staff (% of total)']\n",
    "scaler = MinMaxScaler()\n",
    "final_df[columns_to_scale] = scaler.fit_transform(final_df[columns_to_scale])\n",
    "final_df.to_csv(\"final.csv\")"
   ]
  },
  {
   "cell_type": "code",
   "execution_count": null,
   "metadata": {},
   "outputs": [],
   "source": [
    "Y = final_df[~final_df[\"DevelopmentIndex\"].isna()][\"DevelopmentIndex\"]\n",
    "X = final_df.iloc[Y.index]\n",
    "X = X[columns_to_scale]\n",
    "X = X.drop(X.columns[X.isna().any()].tolist(), axis=1)\n",
    "select = SelectKBest(chi2, k=20)\n",
    "X_new = select.fit_transform(X, Y)\n",
    "#selected_support = select.get_feature_names_out()\n",
    "selected_support = select.get_support(indices=True)\n",
    "selected_features = X.columns[selected_support]\n",
    "print(selected_features)"
   ]
  },
  {
   "cell_type": "code",
   "execution_count": null,
   "metadata": {},
   "outputs": [],
   "source": [
    "X = X[selected_features]\n",
    "X.to_csv(\"X.csv\")"
   ]
  },
  {
   "cell_type": "markdown",
   "metadata": {},
   "source": [
    "# Classification"
   ]
  },
  {
   "cell_type": "code",
   "execution_count": null,
   "metadata": {},
   "outputs": [],
   "source": [
    "model_dtree = DecisionTreeClassifier(random_state=42)\n",
    "model_gboosting = GradientBoostingClassifier(random_state=42)\n",
    "model_rforest = RandomForestClassifier(random_state=42)"
   ]
  },
  {
   "cell_type": "code",
   "execution_count": null,
   "metadata": {},
   "outputs": [],
   "source": [
    "# Decision Tree Classifier\n",
    "decision_tree_params = {\n",
    "        'max_depth': [i for i in range(3,25)], 'min_samples_split': [i for i in range(2,5)], 'min_samples_leaf': [i for i in range(4,10)]\n",
    "}\n",
    "scoring = {\"accuracy\": \"accuracy\", \"precision\": \"precision\", \"recall\": \"recall\", \"bal_accuracy\": \"balanced_accuracy\"}\n",
    "# need to set the parameters grid\n",
    "# defaults 5 fold cross validation\n",
    "decision_tree_clf = GridSearchCV(model_dtree, param_grid=decision_tree_params, scoring=scoring, cv=4, refit='bal_accuracy')\n",
    "decision_tree_clf.fit(X, Y)\n",
    "print(decision_tree_clf.best_estimator_)\n",
    "#print(decision_tree_clf.best_index_)"
   ]
  },
  {
   "cell_type": "code",
   "execution_count": null,
   "metadata": {},
   "outputs": [],
   "source": [
    "#sorted(decision_tree_clf.cv_results_.keys())\n",
    "best_index = decision_tree_clf.best_index_\n",
    "print(decision_tree_clf.best_params_)\n",
    "scores_wanted = ['mean_test_accuracy', 'mean_test_precision', 'mean_test_recall', 'mean_fit_time']\n",
    "for s in scores_wanted:\n",
    "    print(f\"{s}: {decision_tree_clf.cv_results_[s][best_index]}\")"
   ]
  },
  {
   "cell_type": "code",
   "execution_count": null,
   "metadata": {},
   "outputs": [],
   "source": [
    "# Gradient Boosting Classifier\n",
    "gradient_boosting_params = {\n",
    "    'max_depth': [i for i in range(3,25)], 'min_samples_split': [i for i in range(2,5)], 'min_samples_leaf': [i for i in range(4,10)]}\n",
    "scoring = {\"accuracy\": \"accuracy\", \"precision\": \"precision\", \"recall\": \"recall\", \"bal_accuracy\": \"balanced_accuracy\"}\n",
    "gradient_boosting_clf = GridSearchCV(model_gboosting, param_grid=gradient_boosting_params,scoring=scoring, cv=3, refit='bal_accuracy')\n",
    "gradient_boosting_clf.fit(X,Y)\n",
    "#print(gradient_boosting_clf.cv_results_)"
   ]
  },
  {
   "cell_type": "code",
   "execution_count": null,
   "metadata": {},
   "outputs": [],
   "source": [
    "best_index = gradient_boosting_clf.best_index_\n",
    "print(gradient_boosting_clf.best_params_)\n",
    "scores_wanted = ['mean_test_accuracy', 'mean_test_precision', 'mean_test_recall', 'mean_fit_time']\n",
    "for s in scores_wanted:\n",
    "    print(f\"{s}: {gradient_boosting_clf.cv_results_[s][best_index]}\")"
   ]
  },
  {
   "cell_type": "code",
   "execution_count": 104,
   "metadata": {},
   "outputs": [],
   "source": [
    "# Random Forest Classifier\n",
    "random_forest_params = {'max_depth': [i for i in range(3,25)], 'min_samples_split': [i for i in range(2,5)], 'min_samples_leaf': [i for i in range(4,10)]}\n",
    "scoring = {\"accuracy\": \"accuracy\", \"precision\": \"precision\", \"recall\": \"recall\", \"bal_accuracy\": \"balanced_accuracy\"}\n",
    "with warnings.catch_warnings():\n",
    "    warnings.simplefilter('ignore')\n",
    "    random_forest_clf = GridSearchCV(model_rforest, param_grid=random_forest_params, scoring=scoring, cv=4, refit='bal_accuracy')\n",
    "    random_forest_clf.fit(X,Y)\n",
    "#print(random_forest_clf.cv_results_)"
   ]
  },
  {
   "cell_type": "code",
   "execution_count": 105,
   "metadata": {},
   "outputs": [
    {
     "name": "stdout",
     "output_type": "stream",
     "text": [
      "{'max_depth': 3, 'min_samples_leaf': 5, 'min_samples_split': 2}\n",
      "mean_test_accuracy: 0.7777777777777777\n",
      "mean_test_precision: 0.8541666666666666\n",
      "mean_test_recall: 0.625\n",
      "mean_fit_time: 0.13500118255615234\n"
     ]
    }
   ],
   "source": [
    "best_index = random_forest_clf.best_index_\n",
    "print(random_forest_clf.best_params_)\n",
    "scores_wanted = ['mean_test_accuracy', 'mean_test_precision', 'mean_test_recall', 'mean_fit_time']\n",
    "for s in scores_wanted:\n",
    "    print(f\"{s}: {random_forest_clf.cv_results_[s][best_index]}\")"
   ]
  }
 ],
 "metadata": {
  "interpreter": {
   "hash": "b5a0d1d8a35cb8b073861edef1310933a8cfd4e1991759f893d7bca481571fcb"
  },
  "kernelspec": {
   "display_name": "Python 3.9.1 64-bit",
   "language": "python",
   "name": "python3"
  },
  "language_info": {
   "codemirror_mode": {
    "name": "ipython",
    "version": 3
   },
   "file_extension": ".py",
   "mimetype": "text/x-python",
   "name": "python",
   "nbconvert_exporter": "python",
   "pygments_lexer": "ipython3",
   "version": "3.9.1"
  },
  "orig_nbformat": 4
 },
 "nbformat": 4,
 "nbformat_minor": 2
}
